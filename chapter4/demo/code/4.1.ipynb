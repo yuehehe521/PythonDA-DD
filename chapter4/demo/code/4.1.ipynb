{
 "cells": [
  {
   "cell_type": "code",
   "execution_count": 2,
   "metadata": {},
   "outputs": [],
   "source": [
    "#拉格朗日插值代码\n",
    "import pandas as pd #导入数据分析库Pandas\n",
    "from scipy.interpolate import lagrange #导入拉格朗日插值函数"
   ]
  },
  {
   "cell_type": "code",
   "execution_count": 66,
   "metadata": {},
   "outputs": [
    {
     "name": "stderr",
     "output_type": "stream",
     "text": [
      "/home/feifei/anaconda3/lib/python3.7/site-packages/ipykernel_launcher.py:5: SettingWithCopyWarning: \n",
      "A value is trying to be set on a copy of a slice from a DataFrame\n",
      "\n",
      "See the caveats in the documentation: http://pandas.pydata.org/pandas-docs/stable/user_guide/indexing.html#returning-a-view-versus-a-copy\n",
      "  \"\"\"\n"
     ]
    }
   ],
   "source": [
    "inputfile = '../data/catering_sale.xls' #销量数据路径\n",
    "outputfile = '../tmp/sales.xls' #输出数据路径\n",
    "\n",
    "data = pd.read_excel(inputfile) #读入数据\n",
    "data[u'销量'][(data[u'销量'] < 400) | (data[u'销量'] > 5000)] = None #过滤异常值，将其变为空值"
   ]
  },
  {
   "cell_type": "code",
   "execution_count": 67,
   "metadata": {},
   "outputs": [],
   "source": [
    "#自定义列向量插值函数\n",
    "#s为列向量，n为被插值的位置，k为取前后的数据个数，默认为5\n",
    "def ployinterp_column(s, n, k=5):\n",
    "    y = s[list(range(n-k, n)) + list(range(n+1, n+1+k))] #取数\n",
    "    print(y)\n",
    "    print('====')\n",
    "    y = y[y.notnull()] #剔除空值\n",
    "    print(y)\n",
    "    return lagrange(y.index, list(y))(n) #插值并返回插值结果\n",
    "\n"
   ]
  },
  {
   "cell_type": "code",
   "execution_count": 69,
   "metadata": {},
   "outputs": [],
   "source": [
    "s=data['销量']\n",
    "n=0\n",
    "k=5\n",
    "\n"
   ]
  },
  {
   "cell_type": "code",
   "execution_count": 70,
   "metadata": {},
   "outputs": [],
   "source": [
    " y = s[list(range(n-k, n)) + list(range(n+1, n+1+k))] #取数"
   ]
  },
  {
   "cell_type": "code",
   "execution_count": 71,
   "metadata": {},
   "outputs": [
    {
     "data": {
      "text/plain": [
       "-5       NaN\n",
       "-4       NaN\n",
       "-3       NaN\n",
       "-2       NaN\n",
       "-1       NaN\n",
       " 1    2618.2\n",
       " 2    2608.4\n",
       " 3    2651.9\n",
       " 4    3442.1\n",
       " 5    3393.1\n",
       "Name: 销量, dtype: float64"
      ]
     },
     "execution_count": 71,
     "metadata": {},
     "output_type": "execute_result"
    }
   ],
   "source": [
    "y"
   ]
  },
  {
   "cell_type": "code",
   "execution_count": 74,
   "metadata": {},
   "outputs": [],
   "source": [
    "y=y[y.notnull()]"
   ]
  },
  {
   "cell_type": "code",
   "execution_count": 75,
   "metadata": {},
   "outputs": [],
   "source": [
    "lag=lagrange(y.index, list(y))"
   ]
  },
  {
   "cell_type": "code",
   "execution_count": 77,
   "metadata": {},
   "outputs": [
    {
     "data": {
      "text/plain": [
       "-291.4000000000001"
      ]
     },
     "execution_count": 77,
     "metadata": {},
     "output_type": "execute_result"
    }
   ],
   "source": [
    "lag[n]"
   ]
  },
  {
   "cell_type": "code",
   "execution_count": 68,
   "metadata": {
    "scrolled": true
   },
   "outputs": [
    {
     "name": "stdout",
     "output_type": "stream",
     "text": [
      "销量 0\n",
      "-5       NaN\n",
      "-4       NaN\n",
      "-3       NaN\n",
      "-2       NaN\n",
      "-1       NaN\n",
      " 1    2618.2\n",
      " 2    2608.4\n",
      " 3    2651.9\n",
      " 4    3442.1\n",
      " 5    3393.1\n",
      "Name: 销量, dtype: float64\n",
      "====\n",
      "1    2618.2\n",
      "2    2608.4\n",
      "3    2651.9\n",
      "4    3442.1\n",
      "5    3393.1\n",
      "Name: 销量, dtype: float64\n",
      "销量 8\n",
      "3     2651.9\n",
      "4     3442.1\n",
      "5     3393.1\n",
      "6     3136.6\n",
      "7     3744.1\n",
      "9     4060.3\n",
      "10    3614.7\n",
      "11    3295.5\n",
      "12    2332.1\n",
      "13    2699.3\n",
      "Name: 销量, dtype: float64\n",
      "====\n",
      "3     2651.9\n",
      "4     3442.1\n",
      "5     3393.1\n",
      "6     3136.6\n",
      "7     3744.1\n",
      "9     4060.3\n",
      "10    3614.7\n",
      "11    3295.5\n",
      "12    2332.1\n",
      "13    2699.3\n",
      "Name: 销量, dtype: float64\n",
      "销量 14\n",
      "9     4060.3\n",
      "10    3614.7\n",
      "11    3295.5\n",
      "12    2332.1\n",
      "13    2699.3\n",
      "15    3036.8\n",
      "16     865.0\n",
      "17    3014.3\n",
      "18    2742.8\n",
      "19    2173.5\n",
      "Name: 销量, dtype: float64\n",
      "====\n",
      "9     4060.3\n",
      "10    3614.7\n",
      "11    3295.5\n",
      "12    2332.1\n",
      "13    2699.3\n",
      "15    3036.8\n",
      "16     865.0\n",
      "17    3014.3\n",
      "18    2742.8\n",
      "19    2173.5\n",
      "Name: 销量, dtype: float64\n",
      "销量 103\n",
      "98     2839.2\n",
      "99     2360.9\n",
      "100    2158.5\n",
      "101    2005.5\n",
      "102    3236.4\n",
      "104    2452.6\n",
      "105    2265.0\n",
      "106    2566.1\n",
      "107    2527.2\n",
      "108    2326.5\n",
      "Name: 销量, dtype: float64\n",
      "====\n",
      "98     2839.2\n",
      "99     2360.9\n",
      "100    2158.5\n",
      "101    2005.5\n",
      "102    3236.4\n",
      "104    2452.6\n",
      "105    2265.0\n",
      "106    2566.1\n",
      "107    2527.2\n",
      "108    2326.5\n",
      "Name: 销量, dtype: float64\n",
      "销量 110\n",
      "105    2265.0\n",
      "106    2566.1\n",
      "107    2527.2\n",
      "108    2326.5\n",
      "109    2941.9\n",
      "111    2520.9\n",
      "112    2446.2\n",
      "113    2549.4\n",
      "114    2449.3\n",
      "115    2162.5\n",
      "Name: 销量, dtype: float64\n",
      "====\n",
      "105    2265.0\n",
      "106    2566.1\n",
      "107    2527.2\n",
      "108    2326.5\n",
      "109    2941.9\n",
      "111    2520.9\n",
      "112    2446.2\n",
      "113    2549.4\n",
      "114    2449.3\n",
      "115    2162.5\n",
      "Name: 销量, dtype: float64\n",
      "销量 144\n",
      "139    3193.4\n",
      "140    3075.4\n",
      "141    2847.6\n",
      "142    2311.4\n",
      "143    2327.3\n",
      "145    2616.6\n",
      "146    2620.2\n",
      "147    2616.4\n",
      "148    2655.8\n",
      "149    2310.7\n",
      "Name: 销量, dtype: float64\n",
      "====\n",
      "139    3193.4\n",
      "140    3075.4\n",
      "141    2847.6\n",
      "142    2311.4\n",
      "143    2327.3\n",
      "145    2616.6\n",
      "146    2620.2\n",
      "147    2616.4\n",
      "148    2655.8\n",
      "149    2310.7\n",
      "Name: 销量, dtype: float64\n"
     ]
    },
    {
     "name": "stderr",
     "output_type": "stream",
     "text": [
      "/home/feifei/anaconda3/lib/python3.7/site-packages/ipykernel_launcher.py:6: SettingWithCopyWarning: \n",
      "A value is trying to be set on a copy of a slice from a DataFrame\n",
      "\n",
      "See the caveats in the documentation: http://pandas.pydata.org/pandas-docs/stable/user_guide/indexing.html#returning-a-view-versus-a-copy\n",
      "  \n"
     ]
    }
   ],
   "source": [
    "#逐个元素判断是否需要插值\n",
    "for i in data.columns:\n",
    "    for j in range(len(data)):\n",
    "        if (data[i].isnull())[j]: #如果为空即插值。\n",
    "            print(i,j)\n",
    "            data[i][j] = ployinterp_column(data[i], j)\n",
    "            #print('yyyyyyyyyy')\n",
    "\n",
    "data.to_excel(outputfile) #输出结果，写入文件"
   ]
  },
  {
   "cell_type": "code",
   "execution_count": null,
   "metadata": {},
   "outputs": [],
   "source": [
    "pd.cut()"
   ]
  }
 ],
 "metadata": {
  "kernelspec": {
   "display_name": "Python 3",
   "language": "python",
   "name": "python3"
  },
  "language_info": {
   "codemirror_mode": {
    "name": "ipython",
    "version": 3
   },
   "file_extension": ".py",
   "mimetype": "text/x-python",
   "name": "python",
   "nbconvert_exporter": "python",
   "pygments_lexer": "ipython3",
   "version": "3.7.3"
  }
 },
 "nbformat": 4,
 "nbformat_minor": 2
}
