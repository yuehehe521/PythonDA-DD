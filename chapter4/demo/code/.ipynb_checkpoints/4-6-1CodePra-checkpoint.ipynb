{
 "cells": [
  {
   "cell_type": "code",
   "execution_count": 14,
   "metadata": {},
   "outputs": [
    {
     "data": {
      "text/plain": [
       "array([[0.56563412, 0.3105069 , 0.90637948, 0.93755073, 0.42909966],\n",
       "       [0.81603346, 0.87679996, 0.47843088, 0.24484161, 0.27508207],\n",
       "       [0.10467921, 0.70787414, 0.94653586, 0.20278051, 0.88299868],\n",
       "       [0.64105759, 0.39468005, 0.73792687, 0.37480155, 0.94346019],\n",
       "       [0.53724569, 0.69686996, 0.47656424, 0.13826672, 0.36273019],\n",
       "       [0.40421263, 0.83884977, 0.47683633, 0.68772832, 0.34476464],\n",
       "       [0.89849608, 0.1961186 , 0.51474411, 0.55647846, 0.84666884],\n",
       "       [0.02483119, 0.74709665, 0.23943206, 0.99643747, 0.02343144],\n",
       "       [0.07449104, 0.3478642 , 0.81647571, 0.32083018, 0.01825412],\n",
       "       [0.52707664, 0.68121101, 0.79342374, 0.05572985, 0.90960466]])"
      ]
     },
     "execution_count": 14,
     "metadata": {},
     "output_type": "execute_result"
    }
   ],
   "source": [
    "from sklearn.decomposition import PCA\n",
    "import pandas as pd\n",
    "import numpy as np\n",
    "D = np.random.rand(10,5)\n",
    "pca=PCA()\n",
    "pca.fit(D) #训练数据\n",
    "D"
   ]
  },
  {
   "cell_type": "code",
   "execution_count": 15,
   "metadata": {},
   "outputs": [
    {
     "data": {
      "text/plain": [
       "array([[-0.38309051,  0.14204901, -0.26805137,  0.47365771, -0.73270771],\n",
       "       [ 0.47218144, -0.48787983, -0.08437333,  0.71357546,  0.1506956 ],\n",
       "       [ 0.65829503,  0.40340718, -0.57968623, -0.19088605, -0.17730392],\n",
       "       [ 0.28089476, -0.56073993,  0.25121148, -0.41017446, -0.61263249],\n",
       "       [ 0.34355805,  0.51442076,  0.72241696,  0.24855154, -0.18350752]])"
      ]
     },
     "execution_count": 15,
     "metadata": {},
     "output_type": "execute_result"
    }
   ],
   "source": [
    "pca.components_  #返回模型的特征向量"
   ]
  },
  {
   "cell_type": "code",
   "execution_count": 13,
   "metadata": {},
   "outputs": [
    {
     "data": {
      "text/plain": [
       "array([0.61219461, 0.17418648, 0.12904243, 0.08457648])"
      ]
     },
     "execution_count": 13,
     "metadata": {},
     "output_type": "execute_result"
    }
   ],
   "source": [
    "pca.explained_variance_ratio_"
   ]
  },
  {
   "cell_type": "code",
   "execution_count": null,
   "metadata": {},
   "outputs": [],
   "source": [
    "'''\n",
    "10个样本 5个属性向量\n",
    "\n",
    "特征向量即为5个属性的向量\n",
    "\n",
    "非数学领域的矩阵向量\n",
    "\n",
    "'''"
   ]
  }
 ],
 "metadata": {
  "kernelspec": {
   "display_name": "Python 3",
   "language": "python",
   "name": "python3"
  },
  "language_info": {
   "codemirror_mode": {
    "name": "ipython",
    "version": 3
   },
   "file_extension": ".py",
   "mimetype": "text/x-python",
   "name": "python",
   "nbconvert_exporter": "python",
   "pygments_lexer": "ipython3",
   "version": "3.7.3"
  }
 },
 "nbformat": 4,
 "nbformat_minor": 2
}
