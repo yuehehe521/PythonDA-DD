{
 "cells": [
  {
   "cell_type": "code",
   "execution_count": 1,
   "metadata": {},
   "outputs": [],
   "source": [
    "#-*- coding: utf-8 -*-\n",
    "#主成分分析 降维\n",
    "import pandas as pd\n",
    "\n",
    "#参数初始化\n",
    "inputfile = '../data/principal_component.xls'\n",
    "outputfile = '../tmp/dimention_reducted.xls' #降维后的数据\n",
    "\n",
    "data = pd.read_excel(inputfile, header = None) #读入数据\n",
    "\n",
    "from sklearn.decomposition import PCA"
   ]
  },
  {
   "cell_type": "code",
   "execution_count": 4,
   "metadata": {},
   "outputs": [
    {
     "data": {
      "text/plain": [
       "array([0.77401126, 0.15694944, 0.04275942])"
      ]
     },
     "execution_count": 4,
     "metadata": {},
     "output_type": "execute_result"
    }
   ],
   "source": [
    "'''pca = PCA()\n",
    "pca.fit(data)\n",
    "pca.components_ #返回模型的各个特征向量\n",
    "pca.explained_variance_ratio_ #返回各个成分各自的方差百分比'''\n",
    "pca = PCA(3)   #指定主成分个数\n",
    "pca.fit(data)\n",
    "pca.components_ #返回模型的各个特征向量\n",
    "pca.explained_variance_ratio_ #返回各个成分各自的方差百分比\n"
   ]
  },
  {
   "cell_type": "code",
   "execution_count": null,
   "metadata": {},
   "outputs": [],
   "source": []
  }
 ],
 "metadata": {
  "kernelspec": {
   "display_name": "Python 3",
   "language": "python",
   "name": "python3"
  },
  "language_info": {
   "codemirror_mode": {
    "name": "ipython",
    "version": 3
   },
   "file_extension": ".py",
   "mimetype": "text/x-python",
   "name": "python",
   "nbconvert_exporter": "python",
   "pygments_lexer": "ipython3",
   "version": "3.7.3"
  }
 },
 "nbformat": 4,
 "nbformat_minor": 2
}
