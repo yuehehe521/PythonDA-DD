{
 "cells": [
  {
   "cell_type": "code",
   "execution_count": 1,
   "metadata": {},
   "outputs": [],
   "source": [
    "import pandas as pd"
   ]
  },
  {
   "cell_type": "code",
   "execution_count": 2,
   "metadata": {},
   "outputs": [],
   "source": [
    "datafile = '../data/discretization_data.xls' #参数初始化\n",
    "data = pd.read_excel(datafile) #读取数据\n",
    "data = data[u'肝气郁结证型系数'].copy()\n"
   ]
  },
  {
   "cell_type": "code",
   "execution_count": 3,
   "metadata": {},
   "outputs": [],
   "source": [
    "k = 4\n",
    "d1 = pd.cut(data, k, labels = range(k)) #等宽离散化，各个类比依次命名为0,1,2,3"
   ]
  },
  {
   "cell_type": "code",
   "execution_count": 7,
   "metadata": {},
   "outputs": [
    {
     "data": {
      "image/png": "[encoded data removed]",
      "text/plain": [
       "<Figure size 432x288 with 1 Axes>"
      ]
     },
     "metadata": {
      "needs_background": "light"
     },
     "output_type": "display_data"
    }
   ],
   "source": [
    "import matplotlib.pyplot as plt\n",
    "'''for j in range(0, k):\n",
    "    plt.scatter(d1[d1==j],[j for i in d1[d1==j]])'''\n",
    "for j in range(0, k):\n",
    "    plt.plot(data[d1==j], [j for i in d1[d1==j]], 'o')  #j : 0,1,2,3 横坐标为原数值，纵坐标是离散化后的数值"
   ]
  },
  {
   "cell_type": "code",
   "execution_count": 68,
   "metadata": {},
   "outputs": [],
   "source": [
    "#等频率离散化\n",
    "w = [1.0*i/k for i in range(k+1)]\n",
    "w = data.describe(percentiles = w)[4:4+k+1] \n",
    "#print(w)\n",
    "w[0] = w[0]*(1-1e-10)\n",
    "#print(w)"
   ]
  },
  {
   "cell_type": "code",
   "execution_count": null,
   "metadata": {},
   "outputs": [],
   "source": [
    "data.describe()  //shift+tab"
   ]
  },
  {
   "cell_type": "code",
   "execution_count": 45,
   "metadata": {},
   "outputs": [
    {
     "data": {
      "text/plain": [
       "[0, 3, 2, 1]\n",
       "Categories (4, int64): [0 < 1 < 2 < 3]"
      ]
     },
     "execution_count": 45,
     "metadata": {},
     "output_type": "execute_result"
    }
   ],
   "source": [
    "d2 = pd.cut(data, w, labels = range(k))\n",
    "d2.unique() ##"
   ]
  },
  {
   "cell_type": "code",
   "execution_count": 70,
   "metadata": {},
   "outputs": [],
   "source": [
    "#for j in range(0, k):\n",
    "   #plt.scatter(data[d2==j],[j for i in d2[d2==j]])"
   ]
  },
  {
   "cell_type": "code",
   "execution_count": 54,
   "metadata": {},
   "outputs": [],
   "source": [
    "from sklearn.cluster import KMeans "
   ]
  },
  {
   "cell_type": "code",
   "execution_count": 56,
   "metadata": {},
   "outputs": [],
   "source": [
    "#data.shape\n",
    "#data\n",
    "kmodel = KMeans(n_clusters = k, n_jobs = 4) #建立模型，n_jobs是并行数，一般等于CPU数较好\n",
    "data1"
   ]
  },
  {
   "cell_type": "code",
   "execution_count": 71,
   "metadata": {},
   "outputs": [
    {
     "data": {
      "text/plain": [
       "KMeans(algorithm='auto', copy_x=True, init='k-means++', max_iter=300,\n",
       "       n_clusters=4, n_init=10, n_jobs=4, precompute_distances='auto',\n",
       "       random_state=None, tol=0.0001, verbose=0)"
      ]
     },
     "execution_count": 71,
     "metadata": {},
     "output_type": "execute_result"
    }
   ],
   "source": [
    "kmodel.fit(data.values.reshape(data.shape[0] , 1)) #训练模型!!!!"
   ]
  },
  {
   "cell_type": "code",
   "execution_count": 92,
   "metadata": {},
   "outputs": [],
   "source": [
    "c = pd.DataFrame(kmodel.cluster_centers_)\n",
    "c = c.sort_values(0)"
   ]
  },
  {
   "cell_type": "code",
   "execution_count": 93,
   "metadata": {},
   "outputs": [
    {
     "data": {
      "text/html": [
       "<div>\n",
       "<style scoped>\n",
       "    .dataframe tbody tr th:only-of-type {\n",
       "        vertical-align: middle;\n",
       "    }\n",
       "\n",
       "    .dataframe tbody tr th {\n",
       "        vertical-align: top;\n",
       "    }\n",
       "\n",
       "    .dataframe thead th {\n",
       "        text-align: right;\n",
       "    }\n",
       "</style>\n",
       "<table border=\"1\" class=\"dataframe\">\n",
       "  <thead>\n",
       "    <tr style=\"text-align: right;\">\n",
       "      <th></th>\n",
       "      <th>0</th>\n",
       "    </tr>\n",
       "  </thead>\n",
       "  <tbody>\n",
       "    <tr>\n",
       "      <td>1</td>\n",
       "      <td>0.136954</td>\n",
       "    </tr>\n",
       "    <tr>\n",
       "      <td>3</td>\n",
       "      <td>0.220441</td>\n",
       "    </tr>\n",
       "    <tr>\n",
       "      <td>0</td>\n",
       "      <td>0.295007</td>\n",
       "    </tr>\n",
       "    <tr>\n",
       "      <td>2</td>\n",
       "      <td>0.408679</td>\n",
       "    </tr>\n",
       "  </tbody>\n",
       "</table>\n",
       "</div>"
      ],
      "text/plain": [
       "          0\n",
       "1  0.136954\n",
       "3  0.220441\n",
       "0  0.295007\n",
       "2  0.408679"
      ]
     },
     "execution_count": 93,
     "metadata": {},
     "output_type": "execute_result"
    }
   ],
   "source": [
    "c"
   ]
  },
  {
   "cell_type": "code",
   "execution_count": 108,
   "metadata": {},
   "outputs": [],
   "source": [
    "#w = pd.rolling_mean(c, 2).iloc[1:] #相邻两项求中点，作为边界点\n",
    "w= c.rolling(2).mean().iloc[1:]\n",
    "#print(w)\n",
    "w = [0] + list(w[0]) + [data.max()] #把首末边界点加上\n",
    "#w"
   ]
  },
  {
   "cell_type": "code",
   "execution_count": 109,
   "metadata": {},
   "outputs": [
    {
     "data": {
      "text/plain": [
       "'cc=c.rolling(2)  #相邻两项\\ncc.sum()'"
      ]
     },
     "execution_count": 109,
     "metadata": {},
     "output_type": "execute_result"
    }
   ],
   "source": [
    "'''cc=c.rolling(2)  #相邻两项\n",
    "cc.sum()'''"
   ]
  },
  {
   "cell_type": "code",
   "execution_count": 95,
   "metadata": {},
   "outputs": [],
   "source": [
    "d3 = pd.cut(data, w, labels = range(k))"
   ]
  },
  {
   "cell_type": "code",
   "execution_count": 119,
   "metadata": {},
   "outputs": [
    {
     "data": {
      "image/png": "[encoded data removed]",
      "text/plain": [
       "<Figure size 432x288 with 1 Axes>"
      ]
     },
     "metadata": {
      "needs_background": "light"
     },
     "output_type": "display_data"
    }
   ],
   "source": [
    "for j in range(0, k):\n",
    "    plt.scatter(data[d3==j],[j for i in d3[d3==j]],marker='D')"
   ]
  },
  {
   "cell_type": "code",
   "execution_count": null,
   "metadata": {},
   "outputs": [],
   "source": [
    "'''markers = {\n",
    "‘.’: ‘point’,\n",
    "‘,’: ‘pixel’,\n",
    "‘o’: ‘circle’,\n",
    "‘v’: ‘triangle_down’,\n",
    "‘^’: ‘triangle_up’,\n",
    "‘<’: ‘triangle_left’,\n",
    "‘>’: ‘triangle_right’,\n",
    "‘1’: ‘tri_down’,\n",
    "‘2’: ‘tri_up’,\n",
    "‘3’: ‘tri_left’,\n",
    "‘4’: ‘tri_right’,\n",
    "‘8’: ‘octagon’,\n",
    "‘s’: ‘square’,\n",
    "‘p’: ‘pentagon’,\n",
    "'’: ‘star’,\n",
    "‘h’: ‘hexagon1’,\n",
    "‘H’: ‘hexagon2’,\n",
    "‘+’: ‘plus’,\n",
    "‘x’: ‘x’,\n",
    "‘D’: ‘diamond’,\n",
    "‘d’: ‘thin_diamond’,'''\n"
   ]
  },
  {
   "cell_type": "code",
   "execution_count": 66,
   "metadata": {},
   "outputs": [
    {
     "data": {
      "text/plain": [
       "array([[0.40867925],\n",
       "       [0.22044101],\n",
       "       [0.13695417],\n",
       "       [0.29500712]])"
      ]
     },
     "execution_count": 66,
     "metadata": {},
     "output_type": "execute_result"
    }
   ],
   "source": [
    "kmodel.cluster_centers_"
   ]
  },
  {
   "cell_type": "code",
   "execution_count": null,
   "metadata": {},
   "outputs": [],
   "source": []
  },
  {
   "cell_type": "code",
   "execution_count": null,
   "metadata": {},
   "outputs": [],
   "source": []
  },
  {
   "cell_type": "code",
   "execution_count": null,
   "metadata": {},
   "outputs": [],
   "source": [
    "\n",
    "#引入KMeans\n",
    "#输出聚类中心，并且排序（默认是随机序的）\n",
    "w = pd.rolling_mean(c, 2).iloc[1:] #相邻两项求中点，作为边界点\n",
    "w = [0] + list(w[0]) + [data.max()] #把首末边界点加上\n",
    "d3 = pd.cut(data, w, labels = range(k))\n",
    "\n",
    "def cluster_plot(d, k): #自定义作图函数来显示聚类结果\n",
    "  import matplotlib.pyplot as plt\n",
    "  plt.rcParams['font.sans-serif'] = ['SimHei'] #用来正常显示中文标签\n",
    "  plt.rcParams['axes.unicode_minus'] = False #用来正常显示负号\n",
    "  \n",
    "  plt.figure(figsize = (8, 3))\n",
    "  for j in range(0, k):\n",
    "    plt.plot(data[d==j], [j for i in d[d==j]], 'o')\n",
    "  \n",
    "  plt.ylim(-0.5, k-0.5)\n",
    "  return plt\n",
    "\n",
    "cluster_plot(d1, k).show()\n",
    "\n",
    "cluster_plot(d2, k).show()\n",
    "cluster_plot(d3, k).show()"
   ]
  },
  {
   "cell_type": "code",
   "execution_count": null,
   "metadata": {},
   "outputs": [],
   "source": []
  },
  {
   "cell_type": "code",
   "execution_count": null,
   "metadata": {},
   "outputs": [],
   "source": []
  },
  {
   "cell_type": "code",
   "execution_count": null,
   "metadata": {},
   "outputs": [],
   "source": []
  }
 ],
 "metadata": {
  "kernelspec": {
   "display_name": "Python 3",
   "language": "python",
   "name": "python3"
  },
  "language_info": {
   "codemirror_mode": {
    "name": "ipython",
    "version": 3
   },
   "file_extension": ".py",
   "mimetype": "text/x-python",
   "name": "python",
   "nbconvert_exporter": "python",
   "pygments_lexer": "ipython3",
   "version": "3.7.3"
  }
 },
 "nbformat": 4,
 "nbformat_minor": 2
}
