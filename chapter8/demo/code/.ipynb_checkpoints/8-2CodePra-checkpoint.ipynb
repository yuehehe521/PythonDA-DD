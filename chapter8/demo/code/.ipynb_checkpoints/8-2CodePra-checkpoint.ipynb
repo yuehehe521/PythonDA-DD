{
 "cells": [
  {
   "cell_type": "code",
   "execution_count": 30,
   "metadata": {},
   "outputs": [],
   "source": [
    "#-*- coding: utf-8 -*-\n",
    "from __future__ import print_function\n",
    "import pandas as pd\n",
    "from apriori import * #导入自行编写的apriori函数\n",
    "import time #导入时间库用来计算用时\n",
    "\n",
    "inputfile = '../data/apriori.txt' #输入事务集文件\n",
    "data = pd.read_csv(inputfile, header=None, dtype = object)\n",
    "#data"
   ]
  },
  {
   "cell_type": "code",
   "execution_count": 31,
   "metadata": {},
   "outputs": [
    {
     "name": "stderr",
     "output_type": "stream",
     "text": [
      "H:\\Anaconda3\\lib\\site-packages\\ipykernel_launcher.py:8: FutureWarning: Method .as_matrix will be removed in a future version. Use .values instead.\n",
      "  \n"
     ]
    }
   ],
   "source": [
    "#start = time.clock() #计时开始\n",
    "#print(u'\\n转换原始数据至0-1矩阵...')\n",
    "\n",
    "#end = time.clock() #计时结束\n",
    "#print(u'\\n转换完毕，用时：%0.2f秒' %(end-start))\n",
    "\n",
    "ct = lambda x : pd.Series(1, index = x[pd.notnull(x)]) #转换0-1矩阵的过渡函数\n",
    "b = map(ct, data.as_matrix()) #用map方式执行\n",
    "data = pd.DataFrame(b).fillna(0) #实现矩阵转换，空值用0填充\n",
    "#data"
   ]
  },
  {
   "cell_type": "code",
   "execution_count": 36,
   "metadata": {},
   "outputs": [
    {
     "name": "stdout",
     "output_type": "stream",
     "text": [
      "\n",
      "开始搜索关联规则...\n",
      "\n",
      "正在进行第1次搜索...\n",
      "数目：1...\n",
      "\n",
      "结果为：\n",
      "             B1-->A2   A2-->B1\n",
      "support     0.093548  0.093548\n",
      "confidence  0.267692  0.245070\n",
      "          support  confidence\n",
      "B1-->A2  0.093548    0.267692\n",
      "A2-->B1  0.093548    0.245070\n",
      "\n",
      "搜索完成，用时：0.08秒\n"
     ]
    },
    {
     "name": "stderr",
     "output_type": "stream",
     "text": [
      "H:\\Anaconda3\\lib\\site-packages\\ipykernel_launcher.py:5: DeprecationWarning: time.clock has been deprecated in Python 3.3 and will be removed from Python 3.8: use time.perf_counter or time.process_time instead\n",
      "  \"\"\"\n",
      "H:\\Anaconda3\\lib\\site-packages\\ipykernel_launcher.py:12: DeprecationWarning: time.clock has been deprecated in Python 3.3 and will be removed from Python 3.8: use time.perf_counter or time.process_time instead\n",
      "  if sys.path[0] == '':\n"
     ]
    }
   ],
   "source": [
    "support = 0.06 #最小支持度\n",
    "confidence = 0.05 #最小置信度\n",
    "ms = '-->' #连接符，默认'--'，用来区分不同元素，如A--B。需要保证原始表格中不含有该字符\n",
    "\n",
    "start = time.clock() #计时开始\n",
    "print(u'\\n开始搜索关联规则...')\n",
    "#=====================================================\n",
    "result = find_rule(data, support, confidence, ms)\n",
    "print(pd.DataFrame(result).T) #将输出，进行转置并打印出来\n",
    "#find_rule(data, support, confidence, ms)\n",
    "#======================================================\n",
    "end = time.clock() #计时结束\n",
    "print(u'\\n搜索完成，用时：%0.2f秒' %(end-start))"
   ]
  },
  {
   "cell_type": "code",
   "execution_count": null,
   "metadata": {},
   "outputs": [],
   "source": [
    "    "
   ]
  }
 ],
 "metadata": {
  "kernelspec": {
   "display_name": "Python 3",
   "language": "python",
   "name": "python3"
  },
  "language_info": {
   "codemirror_mode": {
    "name": "ipython",
    "version": 3
   },
   "file_extension": ".py",
   "mimetype": "text/x-python",
   "name": "python",
   "nbconvert_exporter": "python",
   "pygments_lexer": "ipython3",
   "version": "3.7.3"
  }
 },
 "nbformat": 4,
 "nbformat_minor": 2
}
