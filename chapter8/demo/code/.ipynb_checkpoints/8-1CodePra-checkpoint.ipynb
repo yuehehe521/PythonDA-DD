{
 "cells": [
  {
   "cell_type": "code",
   "execution_count": 1,
   "metadata": {},
   "outputs": [],
   "source": [
    "#-*- coding: utf-8 -*-\n",
    "'''\n",
    "聚类离散化，最后的result的格式为：\n",
    "      1           2           3           4\n",
    "A     0    0.178698    0.257724    0.351843\n",
    "An  240  356.000000  281.000000   53.000000\n",
    "即(0, 0.178698]有240个，(0.178698, 0.257724]有356个，依此类推。\n",
    "'''\n",
    "from __future__ import print_function\n",
    "import pandas as pd\n",
    "from sklearn.cluster import KMeans #导入K均值聚类算法\n",
    "\n",
    "datafile = '../data/data.xls' #待聚类的数据文件\n",
    "processedfile = '../tmp/data_processed.xls' #数据处理后文件\n",
    "typelabel ={u'肝气郁结证型系数':'A', u'热毒蕴结证型系数':'B', u'冲任失调证型系数':'C', u'气血两虚证型系数':'D', u'脾胃虚弱证型系数':'E', u'肝肾阴虚证型系数':'F'}\n",
    "k = 4 #需要进行的聚类类别数\n",
    "#读取数据并进行聚类分析\n",
    "data = pd.read_excel(datafile) #读取数据\n",
    "\n",
    "keys = list(typelabel.keys())\n",
    "result = pd.DataFrame()"
   ]
  },
  {
   "cell_type": "code",
   "execution_count": 2,
   "metadata": {},
   "outputs": [],
   "source": [
    "#import tushare as ts\n",
    "#df = ts.profit_data(top=60)"
   ]
  },
  {
   "cell_type": "code",
   "execution_count": null,
   "metadata": {},
   "outputs": [],
   "source": []
  },
  {
   "cell_type": "code",
   "execution_count": null,
   "metadata": {},
   "outputs": [],
   "source": []
  }
 ],
 "metadata": {
  "kernelspec": {
   "display_name": "Python 3",
   "language": "python",
   "name": "python3"
  },
  "language_info": {
   "codemirror_mode": {
    "name": "ipython",
    "version": 3
   },
   "file_extension": ".py",
   "mimetype": "text/x-python",
   "name": "python",
   "nbconvert_exporter": "python",
   "pygments_lexer": "ipython3",
   "version": "3.7.3"
  }
 },
 "nbformat": 4,
 "nbformat_minor": 2
}
