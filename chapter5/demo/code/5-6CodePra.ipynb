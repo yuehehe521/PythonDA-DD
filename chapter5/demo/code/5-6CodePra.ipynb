{
 "cells": [
  {
   "cell_type": "code",
   "execution_count": 8,
   "metadata": {},
   "outputs": [],
   "source": [
    "#-*- coding: utf-8 -*-\n",
    "from __future__ import print_function\n",
    "import pandas as pd\n",
    "from apriori import *\n",
    "#from chapter5.demo.code.apriori import find_rule\n",
    "inputfile = '../data/menu_orders.xls'\n",
    "outputfile = '../tmp/apriori_rules.xls' #结果文件\n",
    "data = pd.read_excel(inputfile, header = None)"
   ]
  },
  {
   "cell_type": "code",
   "execution_count": 9,
   "metadata": {},
   "outputs": [
    {
     "name": "stdout",
     "output_type": "stream",
     "text": [
      "\n",
      "转换原始数据至0-1矩阵...\n",
      "\n",
      "转换完毕。\n",
      "\n",
      "正在进行第1次搜索...\n",
      "数目：1...\n",
      "\n",
      "结果为：\n",
      "               c-->a     a-->c\n",
      "support     0.500000  0.500000\n",
      "confidence  0.714286  0.714286\n"
     ]
    },
    {
     "name": "stderr",
     "output_type": "stream",
     "text": [
      "H:\\Anaconda3\\lib\\site-packages\\ipykernel_launcher.py:3: FutureWarning: Method .as_matrix will be removed in a future version. Use .values instead.\n",
      "  This is separate from the ipykernel package so we can avoid doing imports until\n"
     ]
    }
   ],
   "source": [
    "print(u'\\n转换原始数据至0-1矩阵...')\n",
    "ct = lambda x : pd.Series(1, x[pd.notnull(x)]) #转换0-1矩阵的过渡函数\n",
    "b = map(ct, data.as_matrix()) #用map方式执行\n",
    "data = pd.DataFrame(list(b)).fillna(0) #实现矩阵转换，空值用0填充\n",
    "print(u'\\n转换完毕。')\n",
    "del b #删除中间变量b，节省内存\n",
    "\n",
    "support = 0.2 #最小支持度\n",
    "confidence = 0.5 #最小置信度\n",
    "ms = '-->' #连接符，默认'--'，用来区分不同元素，如A--B。需要保证原始表格中不含有该字符\n",
    "\n",
    "\n",
    "find_rule(data, support, confidence, ms).to_excel(outputfile) #保存结果"
   ]
  },
  {
   "cell_type": "code",
   "execution_count": null,
   "metadata": {},
   "outputs": [],
   "source": [
    "\"\"\"data.as_matrix()\n",
    "\n",
    "==>array[[],[]...]\n",
    "\"\"\"\n",
    "\n",
    "\"\"\"find_rule(data,support,confidence,ms) 各参数含义\n",
    "二维矩阵的数据\n",
    "支持度\n",
    "置信度\n",
    "结果的连接符\n",
    "\"\"\""
   ]
  }
 ],
 "metadata": {
  "kernelspec": {
   "display_name": "Python 3",
   "language": "python",
   "name": "python3"
  },
  "language_info": {
   "codemirror_mode": {
    "name": "ipython",
    "version": 3
   },
   "file_extension": ".py",
   "mimetype": "text/x-python",
   "name": "python",
   "nbconvert_exporter": "python",
   "pygments_lexer": "ipython3",
   "version": "3.7.3"
  },
  "pycharm": {
   "stem_cell": {
    "cell_type": "raw",
    "metadata": {
     "collapsed": false
    },
    "source": []
   }
  }
 },
 "nbformat": 4,
 "nbformat_minor": 2
}
