{
 "cells": [
  {
   "cell_type": "code",
   "execution_count": 1,
   "metadata": {},
   "outputs": [
    {
     "name": "stderr",
     "output_type": "stream",
     "text": [
      "H:\\Anaconda3\\lib\\site-packages\\ipykernel_launcher.py:8: FutureWarning: Method .as_matrix will be removed in a future version. Use .values instead.\n",
      "  \n",
      "H:\\Anaconda3\\lib\\site-packages\\ipykernel_launcher.py:9: FutureWarning: Method .as_matrix will be removed in a future version. Use .values instead.\n",
      "  if __name__ == '__main__':\n"
     ]
    },
    {
     "data": {
      "text/plain": [
       "array([[41.      ,  3.      , 17.      , ...,  9.3     , 11.359392,\n",
       "         5.008608],\n",
       "       [27.      ,  1.      , 10.      , ..., 17.3     ,  1.362202,\n",
       "         4.000798],\n",
       "       [40.      ,  1.      , 15.      , ...,  5.5     ,  0.856075,\n",
       "         2.168925],\n",
       "       ...,\n",
       "       [33.      ,  1.      , 15.      , ...,  7.6     ,  0.491264,\n",
       "         1.940736],\n",
       "       [45.      ,  1.      , 19.      , ...,  8.4     ,  2.302608,\n",
       "         4.165392],\n",
       "       [37.      ,  1.      , 12.      , ..., 14.7     ,  2.994684,\n",
       "         3.473316]])"
      ]
     },
     "execution_count": 1,
     "metadata": {},
     "output_type": "execute_result"
    }
   ],
   "source": [
    "#-*- coding: utf-8 -*-\n",
    "#逻辑回归 自动建模\n",
    "import pandas as pd\n",
    "\n",
    "#参数初始化\n",
    "filename = '../data/bankloan.xls'\n",
    "data = pd.read_excel(filename)\n",
    "x = data.iloc[:,:8].as_matrix() #[:,:8] 0-8列 数据\n",
    "y = data.iloc[:,8].as_matrix()  #[:,8] 第八列数据\n",
    "#x \n",
    "#H:\\Anaconda3\\lib\\site-packages\\ipykernel_launcher.py:8: \n",
    "        #FutureWarning: Method .as_matrix will be removed in a future version. Use .values instead."
   ]
  },
  {
   "cell_type": "code",
   "execution_count": 26,
   "metadata": {},
   "outputs": [
    {
     "name": "stdout",
     "output_type": "stream",
     "text": [
      "逻辑回归模型训练开始：\n",
      "逻辑回归模型训练结束。\n",
      "模型的平均正确率为：0.8057142857142857\n"
     ]
    },
    {
     "name": "stderr",
     "output_type": "stream",
     "text": [
      "H:\\Anaconda3\\lib\\site-packages\\sklearn\\linear_model\\logistic.py:432: FutureWarning: Default solver will be changed to 'lbfgs' in 0.22. Specify a solver to silence this warning.\n",
      "  FutureWarning)\n"
     ]
    }
   ],
   "source": [
    "from sklearn.linear_model import LogisticRegression as LR\n",
    "#from sklearn.linear_model import RandomizedLogisticRegression as RLR\n",
    "print(u'逻辑回归模型训练开始：')\n",
    "lr = LR() #建立逻辑回归模型\n",
    "lr.fit(x, y) #用筛选后的特征数据来训练模型\n",
    "print(u'逻辑回归模型训练结束。')\n",
    "print(u'模型的平均正确率为：%s' % lr.score(x, y)) #给出模型的平均正确率，本例为81.4%"
   ]
  },
  {
   "cell_type": "code",
   "execution_count": null,
   "metadata": {},
   "outputs": [],
   "source": [
    "#注解\n",
    "\n",
    "#from sklearn.linear_model import RandomizedLogisticRegression as RLR  \n",
    "#库中没有RandomizedLogisticRegression了"
   ]
  }
 ],
 "metadata": {
  "kernelspec": {
   "display_name": "Python 3",
   "language": "python",
   "name": "python3"
  },
  "language_info": {
   "codemirror_mode": {
    "name": "ipython",
    "version": 3
   },
   "file_extension": ".py",
   "mimetype": "text/x-python",
   "name": "python",
   "nbconvert_exporter": "python",
   "pygments_lexer": "ipython3",
   "version": "3.7.3"
  }
 },
 "nbformat": 4,
 "nbformat_minor": 2
}
