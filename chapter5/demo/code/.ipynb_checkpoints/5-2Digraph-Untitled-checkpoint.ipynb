{
 "cells": [
  {
   "cell_type": "code",
   "execution_count": 5,
   "metadata": {},
   "outputs": [
    {
     "name": "stdout",
     "output_type": "stream",
     "text": [
      "digraph finite_state_machine {\n",
      "\trankdir=LR size=\"8,5\"\n",
      "\tnode [shape=doublecircle]\n",
      "\tLR_0\n",
      "\tLR_3\n",
      "\tLR_4\n",
      "\tLR_8\n",
      "\tnode [shape=circle]\n",
      "\tLR_0 -> LR_2 [label=\"SS(B)\"]\n",
      "\tLR_0 -> LR_1 [label=\"SS(S)\"]\n",
      "\tLR_1 -> LR_3 [label=\"S($end)\"]\n",
      "\tLR_2 -> LR_6 [label=\"SS(b)\"]\n",
      "\tLR_2 -> LR_5 [label=\"SS(a)\"]\n",
      "\tLR_2 -> LR_4 [label=\"S(A)\"]\n",
      "\tLR_5 -> LR_7 [label=\"S(b)\"]\n",
      "\tLR_5 -> LR_5 [label=\"S(a)\"]\n",
      "\tLR_6 -> LR_6 [label=\"S(b)\"]\n",
      "\tLR_6 -> LR_5 [label=\"S(a)\"]\n",
      "\tLR_7 -> LR_8 [label=\"S(b)\"]\n",
      "\tLR_7 -> LR_5 [label=\"S(a)\"]\n",
      "\tLR_8 -> LR_6 [label=\"S(b)\"]\n",
      "\tLR_8 -> LR_5 [label=\"S(a)\"]\n",
      "}\n"
     ]
    }
   ],
   "source": [
    "from graphviz import Digraph\n",
    "\n",
    "f = Digraph('finite_state_machine', filename='fsm.gv')\n",
    "f.attr(rankdir='LR', size='8,5')\n",
    "\n",
    "f.attr('node', shape='doublecircle')\n",
    "f.node('LR_0')\n",
    "f.node('LR_3')\n",
    "f.node('LR_4')\n",
    "f.node('LR_8')\n",
    "\n",
    "f.attr('node', shape='circle')\n",
    "f.edge('LR_0', 'LR_2', label='SS(B)')\n",
    "f.edge('LR_0', 'LR_1', label='SS(S)')\n",
    "f.edge('LR_1', 'LR_3', label='S($end)')\n",
    "f.edge('LR_2', 'LR_6', label='SS(b)')\n",
    "f.edge('LR_2', 'LR_5', label='SS(a)')\n",
    "f.edge('LR_2', 'LR_4', label='S(A)')\n",
    "f.edge('LR_5', 'LR_7', label='S(b)')\n",
    "f.edge('LR_5', 'LR_5', label='S(a)')\n",
    "f.edge('LR_6', 'LR_6', label='S(b)')\n",
    "f.edge('LR_6', 'LR_5', label='S(a)')\n",
    "f.edge('LR_7', 'LR_8', label='S(b)')\n",
    "f.edge('LR_7', 'LR_5', label='S(a)')\n",
    "f.edge('LR_8', 'LR_6', label='S(b)')\n",
    "f.edge('LR_8', 'LR_5', label='S(a)')\n",
    "print(f)"
   ]
  },
  {
   "cell_type": "code",
   "execution_count": null,
   "metadata": {},
   "outputs": [],
   "source": []
  }
 ],
 "metadata": {
  "kernelspec": {
   "display_name": "Python 3",
   "language": "python",
   "name": "python3"
  },
  "language_info": {
   "codemirror_mode": {
    "name": "ipython",
    "version": 3
   },
   "file_extension": ".py",
   "mimetype": "text/x-python",
   "name": "python",
   "nbconvert_exporter": "python",
   "pygments_lexer": "ipython3",
   "version": "3.7.3"
  }
 },
 "nbformat": 4,
 "nbformat_minor": 2
}
