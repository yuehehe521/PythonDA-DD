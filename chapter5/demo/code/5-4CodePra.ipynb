{
 "cells": [
  {
   "cell_type": "code",
   "execution_count": 3,
   "metadata": {},
   "outputs": [],
   "source": [
    "#-*- coding: utf-8 -*-\n",
    "#使用K-Means算法聚类消费行为特征数据\n",
    "\n",
    "import pandas as pd\n",
    "\n",
    "#参数初始化\n",
    "inputfile = '../data/consumption_data.xls' #销量及其他属性数据\n",
    "outputfile = '../tmp/data_type.xls' #保存结果的文件名\n",
    "\n",
    "k = 3 #聚类的类别\n",
    "iteration = 500 #聚类最大循环次数\n",
    "data = pd.read_excel(inputfile, index_col = 'Id') #读取数据\n",
    "data_zs = 1.0*(data - data.mean())/data.std() #数据标准化"
   ]
  },
  {
   "cell_type": "code",
   "execution_count": 4,
   "metadata": {},
   "outputs": [
    {
     "data": {
      "text/plain": [
       "KMeans(algorithm='auto', copy_x=True, init='k-means++', max_iter=500,\n",
       "       n_clusters=3, n_init=10, n_jobs=4, precompute_distances='auto',\n",
       "       random_state=None, tol=0.0001, verbose=0)"
      ]
     },
     "execution_count": 4,
     "metadata": {},
     "output_type": "execute_result"
    }
   ],
   "source": [
    "from sklearn.cluster import KMeans\n",
    "model = KMeans(n_clusters = k, n_jobs = 4, max_iter = iteration) #分为k类，并发数4\n",
    "model.fit(data_zs) #开始聚类"
   ]
  },
  {
   "cell_type": "code",
   "execution_count": 60,
   "metadata": {},
   "outputs": [
    {
     "data": {
      "text/html": [
       "<div>\n",
       "<style scoped>\n",
       "    .dataframe tbody tr th:only-of-type {\n",
       "        vertical-align: middle;\n",
       "    }\n",
       "\n",
       "    .dataframe tbody tr th {\n",
       "        vertical-align: top;\n",
       "    }\n",
       "\n",
       "    .dataframe thead th {\n",
       "        text-align: right;\n",
       "    }\n",
       "</style>\n",
       "<table border=\"1\" class=\"dataframe\">\n",
       "  <thead>\n",
       "    <tr style=\"text-align: right;\">\n",
       "      <th></th>\n",
       "      <th>R</th>\n",
       "      <th>F</th>\n",
       "      <th>M</th>\n",
       "      <th>类别数目</th>\n",
       "    </tr>\n",
       "  </thead>\n",
       "  <tbody>\n",
       "    <tr>\n",
       "      <th>0</th>\n",
       "      <td>3.455055</td>\n",
       "      <td>-0.295654</td>\n",
       "      <td>0.449123</td>\n",
       "      <td>40</td>\n",
       "    </tr>\n",
       "    <tr>\n",
       "      <th>1</th>\n",
       "      <td>-0.149353</td>\n",
       "      <td>-0.658893</td>\n",
       "      <td>-0.271780</td>\n",
       "      <td>559</td>\n",
       "    </tr>\n",
       "    <tr>\n",
       "      <th>2</th>\n",
       "      <td>-0.160451</td>\n",
       "      <td>1.114802</td>\n",
       "      <td>0.392844</td>\n",
       "      <td>341</td>\n",
       "    </tr>\n",
       "  </tbody>\n",
       "</table>\n",
       "</div>"
      ],
      "text/plain": [
       "          R         F         M  类别数目\n",
       "0  3.455055 -0.295654  0.449123    40\n",
       "1 -0.149353 -0.658893 -0.271780   559\n",
       "2 -0.160451  1.114802  0.392844   341"
      ]
     },
     "execution_count": 60,
     "metadata": {},
     "output_type": "execute_result"
    }
   ],
   "source": [
    "#简单打印结果\n",
    "r1 = pd.Series(model.labels_).value_counts() #统计各个类别的数目\n",
    "r1\n",
    "r2 = pd.DataFrame(model.cluster_centers_) #找出聚类中心  r2[0]  r2的0列\n",
    "r = pd.concat([r2, r1], axis = 1) #横向连接（0是纵向），得到聚类中心对应的类别下的数目\n",
    "r.columns = list(data.columns) + [u'类别数目'] #重命名表头\n",
    "r"
   ]
  },
  {
   "cell_type": "code",
   "execution_count": 61,
   "metadata": {},
   "outputs": [],
   "source": [
    "#详细输出原始数据及其类别\n",
    "r = pd.concat([data, pd.Series(model.labels_, index = data.index)], axis = 1)  #详细输出每个样本对应的类别\n",
    "r.columns = list(data.columns) + [u'聚类类别'] #重命名表头\n",
    "r.to_excel(outputfile) #保存结果\n",
    "\n",
    "def density_plot(data): #自定义作图函数\n",
    "  import matplotlib.pyplot as plt\n",
    "  plt.rcParams['font.sans-serif'] = ['SimHei'] #用来正常显示中文标签\n",
    "  plt.rcParams['axes.unicode_minus'] = False #用来正常显示负号\n",
    "  p = data.plot(kind='kde', linewidth = 2, subplots = True, sharex = False)\n",
    "  [p[i].set_ylabel(u'密度') for i in range(k)]\n",
    "  plt.legend()\n",
    "  return plt\n",
    "\n",
    "pic_output = '../tmp/pd_' #概率密度图文件名前缀\n",
    "for i in range(k):\n",
    "  density_plot(data[r[u'聚类类别']==i]).savefig(u'%s%s.png' %(pic_output, i))\n",
    "    #分析：分群1 消费时间间隔短，消费次数多，消费金额大 是高消费人群"
   ]
  },
  {
   "cell_type": "code",
   "execution_count": null,
   "metadata": {},
   "outputs": [],
   "source": []
  },
  {
   "cell_type": "code",
   "execution_count": null,
   "metadata": {},
   "outputs": [],
   "source": []
  },
  {
   "cell_type": "code",
   "execution_count": 40,
   "metadata": {},
   "outputs": [
    {
     "data": {
      "text/plain": [
       "'import numpy as np\\naa=np.array([[1,2],[3,4]])\\naa[0]\\nr2[0]\\ntype(r2.values)  #numpy.ndarray\\nr2.values[0]\\nr2\\nr2[0]'"
      ]
     },
     "execution_count": 40,
     "metadata": {},
     "output_type": "execute_result"
    }
   ],
   "source": [
    "'''import numpy as np\n",
    "aa=np.array([[1,2],[3,4]])\n",
    "aa[0]\n",
    "r2[0]\n",
    "type(r2.values)  #numpy.ndarray\n",
    "r2.values[0]\n",
    "r2\n",
    "r2[0]'''\n",
    "\n",
    "#注\n",
    "#DataFrame和ndarray的.[0]不同：前者为第0列，后者第0行"
   ]
  }
 ],
 "metadata": {
  "kernelspec": {
   "display_name": "Python 3",
   "language": "python",
   "name": "python3"
  },
  "language_info": {
   "codemirror_mode": {
    "name": "ipython",
    "version": 3
   },
   "file_extension": ".py",
   "mimetype": "text/x-python",
   "name": "python",
   "nbconvert_exporter": "python",
   "pygments_lexer": "ipython3",
   "version": "3.7.3"
  }
 },
 "nbformat": 4,
 "nbformat_minor": 2
}
