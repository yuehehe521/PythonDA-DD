{
 "cells": [
  {
   "cell_type": "code",
   "execution_count": 12,
   "metadata": {},
   "outputs": [],
   "source": [
    "#Apriori算法的练习"
   ]
  },
  {
   "cell_type": "code",
   "execution_count": null,
   "metadata": {},
   "outputs": [],
   "source": [
    "def loadDataSet():\n",
    "    dataSet = [[1,3,4],[2,3,5],[1,2,3,5],[2,5]]  #结论：set是hash存储，必须存储不变的对象，\n",
    "                                                        #例如字符串、数字、元组等。\n",
    "    return dataSet"
   ]
  },
  {
   "cell_type": "code",
   "execution_count": 17,
   "metadata": {},
   "outputs": [
    {
     "data": {
      "text/plain": [
       "[[1, 3, 4], [2, 3, 5], [1, 2, 3, 5], [2, 5]]"
      ]
     },
     "execution_count": 17,
     "metadata": {},
     "output_type": "execute_result"
    }
   ],
   "source": [
    "dataSet = loadDataSet()\n",
    "dataSet"
   ]
  },
  {
   "cell_type": "code",
   "execution_count": 20,
   "metadata": {},
   "outputs": [],
   "source": [
    "#构造项集\n",
    "def creatC1(dataSet):\n",
    "    C1 = []\n",
    "    for transaction in dataSet:\n",
    "        #print(transaction)\n",
    "        for item in transaction:\n",
    "            #print(item)\n",
    "            if not {item} in C1:\n",
    "                C1.append({item})\n",
    "                #print(C1)\n",
    "    C1.sort()\n",
    "    return list(map(frozenset,C1))"
   ]
  },
  {
   "cell_type": "code",
   "execution_count": 22,
   "metadata": {},
   "outputs": [
    {
     "data": {
      "text/plain": [
       "[frozenset({1}),\n",
       " frozenset({3}),\n",
       " frozenset({4}),\n",
       " frozenset({2}),\n",
       " frozenset({5})]"
      ]
     },
     "execution_count": 22,
     "metadata": {},
     "output_type": "execute_result"
    }
   ],
   "source": [
    "C1 = creatC1(dataSet)\n",
    "C1  #候选项集   一般用Lk：频繁项集"
   ]
  },
  {
   "cell_type": "code",
   "execution_count": 58,
   "metadata": {},
   "outputs": [],
   "source": [
    "#生成频繁项集、满足最小支持度的算法\n",
    "def scanD(dataSet,Ck,minSupport):\n",
    "    #print(Ck)  #项\n",
    "    freItem = {}  #项集\n",
    "    for ds in dataSet:\n",
    "        #print(ds)  #每个事物\n",
    "        for ck in Ck:\n",
    "            if ck.issubset(ds): #ck: frozenset({1})  [1, 3, 4]\n",
    "                if ck not in freItem.keys():\n",
    "                    freItem[ck] = 1\n",
    "                    #print(ck)\n",
    "                    #print(freItem[ck])\n",
    "                    #print('++')\n",
    "                else:\n",
    "                    freItem[ck] +=1\n",
    "                    #print(ck)\n",
    "                    #print(freItem[ck])\n",
    "                    #print('==')\n",
    "                    \n",
    "    numItems = float(len(dataSet))\n",
    "    resultFre = []    #频繁项集\n",
    "    supportData = {}  # 候选项  支持度\n",
    "    for key in freItem:\n",
    "        support = freItem[key] / numItems\n",
    "        supportData[key] = support\n",
    "        if support >= minSupport:\n",
    "            resultFre.append(key)\n",
    "    return resultFre,supportData             \n",
    "                "
   ]
  },
  {
   "cell_type": "code",
   "execution_count": 59,
   "metadata": {},
   "outputs": [
    {
     "data": {
      "text/plain": [
       "[frozenset({1}), frozenset({3}), frozenset({2}), frozenset({5})]"
      ]
     },
     "execution_count": 59,
     "metadata": {},
     "output_type": "execute_result"
    }
   ],
   "source": [
    "L,s = scanD(dataSet,C1,0.5)\n",
    "L"
   ]
  },
  {
   "cell_type": "code",
   "execution_count": 36,
   "metadata": {},
   "outputs": [
    {
     "data": {
      "text/plain": [
       "{frozenset({1}): 0.5,\n",
       " frozenset({3}): 0.75,\n",
       " frozenset({4}): 0.25,\n",
       " frozenset({2}): 0.75,\n",
       " frozenset({5}): 0.75}"
      ]
     },
     "execution_count": 36,
     "metadata": {},
     "output_type": "execute_result"
    }
   ],
   "source": [
    "s"
   ]
  },
  {
   "cell_type": "code",
   "execution_count": null,
   "metadata": {},
   "outputs": [],
   "source": []
  }
 ],
 "metadata": {
  "kernelspec": {
   "display_name": "Python 3",
   "language": "python",
   "name": "python3"
  },
  "language_info": {
   "codemirror_mode": {
    "name": "ipython",
    "version": 3
   },
   "file_extension": ".py",
   "mimetype": "text/x-python",
   "name": "python",
   "nbconvert_exporter": "python",
   "pygments_lexer": "ipython3",
   "version": "3.7.3"
  }
 },
 "nbformat": 4,
 "nbformat_minor": 2
}
